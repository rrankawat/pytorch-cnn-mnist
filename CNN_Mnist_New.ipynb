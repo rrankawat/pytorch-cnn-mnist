{
  "nbformat": 4,
  "nbformat_minor": 0,
  "metadata": {
    "colab": {
      "provenance": [],
      "authorship_tag": "ABX9TyNBMiFLW2B3aSUodkUECyJX",
      "include_colab_link": true
    },
    "kernelspec": {
      "name": "python3",
      "display_name": "Python 3"
    },
    "language_info": {
      "name": "python"
    }
  },
  "cells": [
    {
      "cell_type": "markdown",
      "metadata": {
        "id": "view-in-github",
        "colab_type": "text"
      },
      "source": [
        "<a href=\"https://colab.research.google.com/github/rrankawat/pytorch-cnn-mnist/blob/main/CNN_Mnist_New.ipynb\" target=\"_parent\"><img src=\"https://colab.research.google.com/assets/colab-badge.svg\" alt=\"Open In Colab\"/></a>"
      ]
    },
    {
      "cell_type": "code",
      "execution_count": 46,
      "metadata": {
        "id": "J1QxauLw2LuA"
      },
      "outputs": [],
      "source": [
        "import torch\n",
        "import torch.nn as nn\n",
        "import torch.nn.functional as F\n",
        "from torch.utils.data import DataLoader\n",
        "from torchvision import datasets, transforms\n",
        "from torchvision.utils import make_grid\n",
        "\n",
        "import numpy as np\n",
        "import pandas as pd\n",
        "from sklearn.metrics import confusion_matrix\n",
        "import matplotlib.pyplot as plt\n",
        "%matplotlib inline\n",
        "\n",
        "import time"
      ]
    },
    {
      "cell_type": "code",
      "source": [
        "# -------------------\n",
        "# Data loading\n",
        "# -------------------\n",
        "train_data = datasets.MNIST(root='./data', train=True, download=True, transform=transforms.ToTensor())\n",
        "test_data = datasets.MNIST(root='./data', train=False, download=True, transform=transforms.ToTensor())\n",
        "\n",
        "train_loader = DataLoader(train_data, batch_size=10, shuffle=True)\n",
        "test_loader = DataLoader(test_data, batch_size=10, shuffle=False)"
      ],
      "metadata": {
        "id": "6deQSnsg54uL"
      },
      "execution_count": 56,
      "outputs": []
    },
    {
      "cell_type": "code",
      "source": [
        "# -------------------\n",
        "# CNN Model\n",
        "# -------------------\n",
        "class ConvolutionalNetwork(nn.Module):\n",
        "  def __init__(self):\n",
        "    super().__init__()\n",
        "    self.conv1 = nn.Conv2d(1, 6, 3, 1)\n",
        "    self.conv2 = nn.Conv2d(6, 16, 3, 1)\n",
        "    self.fc1 = nn.Linear(5 * 5 * 16, 120)\n",
        "    self.fc2 = nn.Linear(120, 84)\n",
        "    self.fc3 = nn.Linear(84, 10)\n",
        "\n",
        "  def forward(self, X):\n",
        "    # First Pass\n",
        "    X = F.relu(self.conv1(X))\n",
        "    X = F.max_pool2d(X, 2, 2)\n",
        "\n",
        "    # Second Pass\n",
        "    X = F.relu(self.conv2(X))\n",
        "    X = F.max_pool2d(X, 2, 2)\n",
        "\n",
        "    # Re-view to flatten it out\n",
        "    X = X.view(-1, 16 * 5 * 5)\n",
        "\n",
        "    # Fully Connected Layers\n",
        "    X = F.relu(self.fc1(X))\n",
        "    X = F.relu(self.fc2(X))\n",
        "    X = self.fc3(X)\n",
        "\n",
        "    return F.log_softmax(X, dim=1)"
      ],
      "metadata": {
        "id": "I-A9jyLt3mHE"
      },
      "execution_count": 48,
      "outputs": []
    },
    {
      "cell_type": "code",
      "source": [
        "# Create an instance of our Model\n",
        "torch.manual_seed(41)\n",
        "model = ConvolutionalNetwork()"
      ],
      "metadata": {
        "id": "3sHXmgT177oB"
      },
      "execution_count": 49,
      "outputs": []
    },
    {
      "cell_type": "code",
      "source": [
        "# -------------------\n",
        "# Optimizer & Loss\n",
        "# -------------------\n",
        "criterion = nn.CrossEntropyLoss()\n",
        "optimizer = torch.optim.Adam(model.parameters(), lr=0.001)"
      ],
      "metadata": {
        "id": "mPaiR6lW8YD4"
      },
      "execution_count": 50,
      "outputs": []
    },
    {
      "cell_type": "code",
      "source": [
        "# -------------------\n",
        "# Time Function\n",
        "# -------------------\n",
        "def totalTime(start_time):\n",
        "  current_time = time.time()\n",
        "  total_time = (current_time - start_time) / 60\n",
        "  return round(total_time, 2)"
      ],
      "metadata": {
        "id": "JMFkCKWiL7Br"
      },
      "execution_count": 51,
      "outputs": []
    },
    {
      "cell_type": "code",
      "source": [
        "# Variables to track things\n",
        "epochs = 5\n",
        "train_losses = []\n",
        "train_correct = []\n",
        "test_losses = []\n",
        "test_correct = []"
      ],
      "metadata": {
        "id": "yYmIIf2_fRvy"
      },
      "execution_count": 52,
      "outputs": []
    },
    {
      "cell_type": "code",
      "source": [
        "# -------------------\n",
        "# Training function\n",
        "# -------------------\n",
        "def train(epoch, model, train_loader, criterion, optimizer):\n",
        "  model.train()\n",
        "\n",
        "  trn_corr = 0\n",
        "\n",
        "  for b, (X_train, y_train) in enumerate(train_loader):\n",
        "    b += 1 # start the batches at 1\n",
        "    y_pred = model(X_train)\n",
        "    loss = criterion(y_pred, y_train)\n",
        "    predicted = torch.max(y_pred.data, 1)[1]\n",
        "    batch_corr = (predicted == y_train).sum()\n",
        "    trn_corr += batch_corr\n",
        "\n",
        "    # Update parameters\n",
        "    optimizer.zero_grad()\n",
        "    loss.backward()\n",
        "    optimizer.step()\n",
        "\n",
        "    # Print out results\n",
        "    if b % 600 == 0:\n",
        "      print(f\"Epoch: {epoch + 1} [{b * len(X_train)}/{len(train_loader.dataset)} \"\n",
        "            f\"({100. * b / len(train_loader):.0f}%)]\\tLoss: {loss.item():.6f}\")\n",
        "\n",
        "  print(\"\\n\")\n",
        "  train_losses.append(loss)\n",
        "  train_correct.append(trn_corr)"
      ],
      "metadata": {
        "id": "hs5K5NxtOI1H"
      },
      "execution_count": 53,
      "outputs": []
    },
    {
      "cell_type": "code",
      "source": [
        "# -------------------\n",
        "# Test function\n",
        "# -------------------\n",
        "def test(model, test_loader, criterion, optimizer):\n",
        "  model.eval()\n",
        "\n",
        "  tst_corr = 0\n",
        "\n",
        "  with torch.no_grad():\n",
        "    for b, (X_test, y_test) in enumerate(test_loader):\n",
        "      y_val = model(X_test)\n",
        "      loss = criterion(y_val, y_test)\n",
        "      predicted = torch.max(y_val.data, 1)[1]\n",
        "      tst_corr += (predicted == y_test).sum()\n",
        "\n",
        "  test_losses.append(loss)\n",
        "  test_correct.append(tst_corr)"
      ],
      "metadata": {
        "id": "WnJL9dougICy"
      },
      "execution_count": 54,
      "outputs": []
    },
    {
      "cell_type": "code",
      "source": [
        "start_time = time.time()\n",
        "\n",
        "# Loop through the epochs\n",
        "for epoch in range(epochs):\n",
        "  train(epoch, model, train_loader, criterion, optimizer)\n",
        "  test(model, test_loader, criterion, optimizer)\n",
        "\n",
        "print(f'Time taken: {totalTime(start_time)} minutes!')"
      ],
      "metadata": {
        "colab": {
          "base_uri": "https://localhost:8080/"
        },
        "id": "LWMW0bC4ltMf",
        "outputId": "41ab6b64-9f74-4979-f279-ad8e147344e8"
      },
      "execution_count": 57,
      "outputs": [
        {
          "output_type": "stream",
          "name": "stdout",
          "text": [
            "Epoch: 1 [6000/60000 (10%)]\tLoss: 0.004787\n",
            "Epoch: 1 [12000/60000 (20%)]\tLoss: 0.018540\n",
            "Epoch: 1 [18000/60000 (30%)]\tLoss: 0.013787\n",
            "Epoch: 1 [24000/60000 (40%)]\tLoss: 0.134414\n",
            "Epoch: 1 [30000/60000 (50%)]\tLoss: 0.008432\n",
            "Epoch: 1 [36000/60000 (60%)]\tLoss: 0.002344\n",
            "Epoch: 1 [42000/60000 (70%)]\tLoss: 0.000831\n",
            "Epoch: 1 [48000/60000 (80%)]\tLoss: 0.143247\n",
            "Epoch: 1 [54000/60000 (90%)]\tLoss: 0.000579\n",
            "Epoch: 1 [60000/60000 (100%)]\tLoss: 0.166373\n",
            "\n",
            "\n",
            "Epoch: 2 [6000/60000 (10%)]\tLoss: 0.001107\n",
            "Epoch: 2 [12000/60000 (20%)]\tLoss: 0.003886\n",
            "Epoch: 2 [18000/60000 (30%)]\tLoss: 0.002199\n",
            "Epoch: 2 [24000/60000 (40%)]\tLoss: 0.016513\n",
            "Epoch: 2 [30000/60000 (50%)]\tLoss: 0.014820\n",
            "Epoch: 2 [36000/60000 (60%)]\tLoss: 0.737252\n",
            "Epoch: 2 [42000/60000 (70%)]\tLoss: 0.298330\n",
            "Epoch: 2 [48000/60000 (80%)]\tLoss: 0.001223\n",
            "Epoch: 2 [54000/60000 (90%)]\tLoss: 0.001918\n",
            "Epoch: 2 [60000/60000 (100%)]\tLoss: 0.056403\n",
            "\n",
            "\n",
            "Epoch: 3 [6000/60000 (10%)]\tLoss: 0.000055\n",
            "Epoch: 3 [12000/60000 (20%)]\tLoss: 0.211374\n",
            "Epoch: 3 [18000/60000 (30%)]\tLoss: 0.004187\n",
            "Epoch: 3 [24000/60000 (40%)]\tLoss: 0.000120\n",
            "Epoch: 3 [30000/60000 (50%)]\tLoss: 0.004930\n",
            "Epoch: 3 [36000/60000 (60%)]\tLoss: 0.001937\n",
            "Epoch: 3 [42000/60000 (70%)]\tLoss: 0.000545\n",
            "Epoch: 3 [48000/60000 (80%)]\tLoss: 0.004983\n",
            "Epoch: 3 [54000/60000 (90%)]\tLoss: 0.000488\n",
            "Epoch: 3 [60000/60000 (100%)]\tLoss: 0.001001\n",
            "\n",
            "\n",
            "Epoch: 4 [6000/60000 (10%)]\tLoss: 0.001037\n",
            "Epoch: 4 [12000/60000 (20%)]\tLoss: 0.000073\n",
            "Epoch: 4 [18000/60000 (30%)]\tLoss: 0.000046\n",
            "Epoch: 4 [24000/60000 (40%)]\tLoss: 0.000004\n",
            "Epoch: 4 [30000/60000 (50%)]\tLoss: 0.001587\n",
            "Epoch: 4 [36000/60000 (60%)]\tLoss: 0.005761\n",
            "Epoch: 4 [42000/60000 (70%)]\tLoss: 0.001290\n",
            "Epoch: 4 [48000/60000 (80%)]\tLoss: 0.000520\n",
            "Epoch: 4 [54000/60000 (90%)]\tLoss: 0.000055\n",
            "Epoch: 4 [60000/60000 (100%)]\tLoss: 0.000819\n",
            "\n",
            "\n",
            "Epoch: 5 [6000/60000 (10%)]\tLoss: 0.000838\n",
            "Epoch: 5 [12000/60000 (20%)]\tLoss: 0.000028\n",
            "Epoch: 5 [18000/60000 (30%)]\tLoss: 0.000720\n",
            "Epoch: 5 [24000/60000 (40%)]\tLoss: 0.035876\n",
            "Epoch: 5 [30000/60000 (50%)]\tLoss: 0.001545\n",
            "Epoch: 5 [36000/60000 (60%)]\tLoss: 0.000088\n",
            "Epoch: 5 [42000/60000 (70%)]\tLoss: 0.207767\n",
            "Epoch: 5 [48000/60000 (80%)]\tLoss: 0.051180\n",
            "Epoch: 5 [54000/60000 (90%)]\tLoss: 0.001685\n",
            "Epoch: 5 [60000/60000 (100%)]\tLoss: 0.000142\n",
            "\n",
            "\n",
            "Time taken: 4.46 minutes!\n"
          ]
        }
      ]
    },
    {
      "cell_type": "code",
      "source": [
        "# ------------------------\n",
        "# Plot the loss at epoch\n",
        "# ------------------------\n",
        "plt.plot([loss.detach().numpy() for loss in train_losses], label='Training Loss')\n",
        "plt.plot([loss.detach().numpy() for loss in test_losses], label='Testing Loss')\n",
        "plt.title('Loss at Epoch')\n",
        "plt.legend()"
      ],
      "metadata": {
        "id": "FGdmJ607s5iL",
        "colab": {
          "base_uri": "https://localhost:8080/",
          "height": 469
        },
        "outputId": "fa7fb6ba-cf99-474d-afc5-90d021cd2b4f"
      },
      "execution_count": 58,
      "outputs": [
        {
          "output_type": "execute_result",
          "data": {
            "text/plain": [
              "<matplotlib.legend.Legend at 0x7c0904777740>"
            ]
          },
          "metadata": {},
          "execution_count": 58
        },
        {
          "output_type": "display_data",
          "data": {
            "text/plain": [
              "<Figure size 640x480 with 1 Axes>"
            ],
            "image/png": "[encoded data removed]"
          },
          "metadata": {}
        }
      ]
    },
    {
      "cell_type": "code",
      "source": [
        "# --------------------------------------------\n",
        "# Plot the accuracy at the end of each epoch\n",
        "# --------------------------------------------\n",
        "plt.plot([t/600 for t in train_correct], label='Training Accuracy')\n",
        "plt.plot([t/100 for t in test_correct], label='Testing Accuracy')\n",
        "plt.title('Accuracy at Epoch')\n",
        "plt.legend()"
      ],
      "metadata": {
        "id": "tdO9cKhfte__",
        "colab": {
          "base_uri": "https://localhost:8080/",
          "height": 469
        },
        "outputId": "5686ada1-b928-4d3e-f630-a27b1d2f38c5"
      },
      "execution_count": 59,
      "outputs": [
        {
          "output_type": "execute_result",
          "data": {
            "text/plain": [
              "<matplotlib.legend.Legend at 0x7c0904b6baa0>"
            ]
          },
          "metadata": {},
          "execution_count": 59
        },
        {
          "output_type": "display_data",
          "data": {
            "text/plain": [
              "<Figure size 640x480 with 1 Axes>"
            ],
            "image/png": "[encoded data removed]"
          },
          "metadata": {}
        }
      ]
    },
    {
      "cell_type": "code",
      "source": [
        "test_load_everything = DataLoader(test_data, batch_size=10000, shuffle=False)"
      ],
      "metadata": {
        "id": "9OIBYMBTu2EJ"
      },
      "execution_count": 60,
      "outputs": []
    },
    {
      "cell_type": "code",
      "source": [
        "with torch.no_grad():\n",
        "  correct = 0\n",
        "  for X_test, y_test in test_load_everything:\n",
        "    y_val = model(X_test)\n",
        "    predicted = torch.max(y_val, 1)[1]\n",
        "    correct += (predicted == y_test).sum()"
      ],
      "metadata": {
        "id": "Ckz1_K4kvBFe"
      },
      "execution_count": 61,
      "outputs": []
    },
    {
      "cell_type": "code",
      "source": [
        "# Test for correct\n",
        "correct.item()/len(test_data)*100"
      ],
      "metadata": {
        "id": "7lWb2Wf_vsmF",
        "colab": {
          "base_uri": "https://localhost:8080/"
        },
        "outputId": "4f41c7ba-ae68-498b-f116-06ea49c53fa2"
      },
      "execution_count": 62,
      "outputs": [
        {
          "output_type": "execute_result",
          "data": {
            "text/plain": [
              "98.8"
            ]
          },
          "metadata": {},
          "execution_count": 62
        }
      ]
    },
    {
      "cell_type": "code",
      "source": [
        "# Show the image\n",
        "plt.imshow(test_data[4143][0].reshape(28, 28))"
      ],
      "metadata": {
        "id": "HM_MIekAw-Xn",
        "colab": {
          "base_uri": "https://localhost:8080/",
          "height": 447
        },
        "outputId": "2f48a863-9ec2-4e6a-cda7-f445600ffdd6"
      },
      "execution_count": 63,
      "outputs": [
        {
          "output_type": "execute_result",
          "data": {
            "text/plain": [
              "<matplotlib.image.AxesImage at 0x7c0905a79c70>"
            ]
          },
          "metadata": {},
          "execution_count": 63
        },
        {
          "output_type": "display_data",
          "data": {
            "text/plain": [
              "<Figure size 640x480 with 1 Axes>"
            ],
            "image/png": "[encoded data removed]"
          },
          "metadata": {}
        }
      ]
    },
    {
      "cell_type": "code",
      "source": [
        "# Pass the image thru our model\n",
        "model.eval()\n",
        "with torch.no_grad():\n",
        "  new_prediction = model(test_data[4143][0].view(1, 1, 28, 28)) # batch of 1, 1 color channel, 28x28 image"
      ],
      "metadata": {
        "id": "jKq6aH4vxL15"
      },
      "execution_count": 64,
      "outputs": []
    },
    {
      "cell_type": "code",
      "source": [
        "new_prediction.argmax()"
      ],
      "metadata": {
        "id": "Lt9DPzAFx8N5",
        "colab": {
          "base_uri": "https://localhost:8080/"
        },
        "outputId": "8da2ac30-1b3e-44b9-cf4f-ec71e730b1b2"
      },
      "execution_count": 66,
      "outputs": [
        {
          "output_type": "execute_result",
          "data": {
            "text/plain": [
              "tensor(9)"
            ]
          },
          "metadata": {},
          "execution_count": 66
        }
      ]
    }
  ]
}