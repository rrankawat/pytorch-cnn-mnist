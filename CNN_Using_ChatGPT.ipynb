{
  "nbformat": 4,
  "nbformat_minor": 0,
  "metadata": {
    "colab": {
      "provenance": [],
      "authorship_tag": "ABX9TyOqj8dX7vXkZKfliD3+LC3a",
      "include_colab_link": true
    },
    "kernelspec": {
      "name": "python3",
      "display_name": "Python 3"
    },
    "language_info": {
      "name": "python"
    }
  },
  "cells": [
    {
      "cell_type": "markdown",
      "metadata": {
        "id": "view-in-github",
        "colab_type": "text"
      },
      "source": [
        "<a href=\"https://colab.research.google.com/github/rrankawat/pytorch-cnn-mnist/blob/main/CNN_Using_ChatGPT.ipynb\" target=\"_parent\"><img src=\"https://colab.research.google.com/assets/colab-badge.svg\" alt=\"Open In Colab\"/></a>"
      ]
    },
    {
      "cell_type": "code",
      "execution_count": 1,
      "metadata": {
        "id": "I5YrtdH8F5VQ"
      },
      "outputs": [],
      "source": [
        "import torch\n",
        "import torch.nn as nn\n",
        "import torch.nn.functional as F\n",
        "import torch.optim as optim\n",
        "from torchvision import datasets, transforms\n",
        "from torch.utils.data import DataLoader"
      ]
    },
    {
      "cell_type": "code",
      "source": [
        "# -------------------\n",
        "# Device setup\n",
        "# -------------------\n",
        "device = torch.device(\"cuda\" if torch.cuda.is_available() else \"cpu\")"
      ],
      "metadata": {
        "id": "_Zzl3GuWGI2m"
      },
      "execution_count": 2,
      "outputs": []
    },
    {
      "cell_type": "code",
      "source": [
        "# -------------------\n",
        "# Data loading\n",
        "# -------------------\n",
        "transform = transforms.Compose([\n",
        "    transforms.ToTensor(),\n",
        "    transforms.Normalize((0.1307,), (0.3081,))\n",
        "])\n",
        "\n",
        "train_dataset = datasets.MNIST(root=\"./data\", train=True, transform=transform, download=True)\n",
        "test_dataset = datasets.MNIST(root=\"./data\", train=False, transform=transform)\n",
        "\n",
        "train_loader = DataLoader(train_dataset, batch_size=64, shuffle=True)\n",
        "test_loader = DataLoader(test_dataset, batch_size=1000, shuffle=False)"
      ],
      "metadata": {
        "colab": {
          "base_uri": "https://localhost:8080/"
        },
        "id": "jx_FcnjgGNSk",
        "outputId": "07a50123-0d2d-4128-c503-625c75f17c03"
      },
      "execution_count": 3,
      "outputs": [
        {
          "output_type": "stream",
          "name": "stderr",
          "text": [
            "100%|██████████| 9.91M/9.91M [00:00<00:00, 37.6MB/s]\n",
            "100%|██████████| 28.9k/28.9k [00:00<00:00, 1.06MB/s]\n",
            "100%|██████████| 1.65M/1.65M [00:00<00:00, 9.14MB/s]\n",
            "100%|██████████| 4.54k/4.54k [00:00<00:00, 7.21MB/s]\n"
          ]
        }
      ]
    },
    {
      "cell_type": "code",
      "source": [
        "# -------------------\n",
        "# CNN Model\n",
        "# -------------------\n",
        "class CNN(nn.Module):\n",
        "    def __init__(self):\n",
        "        super(CNN, self).__init__()\n",
        "        self.conv1 = nn.Conv2d(1, 32, 3, 1)   # (28x28 → 26x26)\n",
        "        self.conv2 = nn.Conv2d(32, 64, 3, 1)  # (26x26 → 24x24)\n",
        "        self.fc1 = nn.Linear(9216, 128)       # flatten (64*12*12)\n",
        "        self.fc2 = nn.Linear(128, 10)         # 10 classes\n",
        "\n",
        "    def forward(self, x):\n",
        "        x = F.relu(self.conv1(x))\n",
        "        x = F.relu(self.conv2(x))\n",
        "        x = F.max_pool2d(x, 2)                # downsample (12x12)\n",
        "        x = torch.flatten(x, 1)\n",
        "        x = F.relu(self.fc1(x))\n",
        "        x = self.fc2(x)\n",
        "        return F.log_softmax(x, dim=1)\n",
        "\n",
        "model = CNN().to(device)"
      ],
      "metadata": {
        "id": "RbmVtzwnGXRB"
      },
      "execution_count": 4,
      "outputs": []
    },
    {
      "cell_type": "code",
      "source": [
        "# -------------------\n",
        "# Optimizer & Loss\n",
        "# -------------------\n",
        "optimizer = optim.Adam(model.parameters(), lr=0.001)"
      ],
      "metadata": {
        "id": "0H_JaSFEGa7e"
      },
      "execution_count": 5,
      "outputs": []
    },
    {
      "cell_type": "code",
      "source": [
        "# -------------------\n",
        "# Training function\n",
        "# -------------------\n",
        "def train(model, device, train_loader, optimizer, epoch):\n",
        "    model.train()\n",
        "    for batch_idx, (data, target) in enumerate(train_loader):\n",
        "        data, target = data.to(device), target.to(device)\n",
        "\n",
        "        optimizer.zero_grad()\n",
        "        output = model(data)\n",
        "        loss = F.nll_loss(output, target)\n",
        "        loss.backward()\n",
        "        optimizer.step()\n",
        "\n",
        "        if batch_idx % 100 == 0:\n",
        "            print(f\"Train Epoch: {epoch} [{batch_idx * len(data)}/{len(train_loader.dataset)} \"\n",
        "                  f\"({100. * batch_idx / len(train_loader):.0f}%)]\\tLoss: {loss.item():.6f}\")"
      ],
      "metadata": {
        "id": "91FmcPUuGeYX"
      },
      "execution_count": 6,
      "outputs": []
    },
    {
      "cell_type": "code",
      "source": [
        "# -------------------\n",
        "# Testing function\n",
        "# -------------------\n",
        "def test(model, device, test_loader):\n",
        "    model.eval()\n",
        "    test_loss = 0\n",
        "    correct = 0\n",
        "    with torch.no_grad():\n",
        "        for data, target in test_loader:\n",
        "            data, target = data.to(device), target.to(device)\n",
        "            output = model(data)\n",
        "            test_loss += F.nll_loss(output, target, reduction=\"sum\").item()\n",
        "            pred = output.argmax(dim=1, keepdim=True)\n",
        "            correct += pred.eq(target.view_as(pred)).sum().item()\n",
        "\n",
        "    test_loss /= len(test_loader.dataset)\n",
        "    accuracy = 100. * correct / len(test_loader.dataset)\n",
        "    print(f\"\\nTest set: Average loss: {test_loss:.4f}, Accuracy: {accuracy:.2f}%\\n\")"
      ],
      "metadata": {
        "id": "wv3FRyY5GiEg"
      },
      "execution_count": 7,
      "outputs": []
    },
    {
      "cell_type": "code",
      "source": [
        "# -------------------\n",
        "# Run Training\n",
        "# -------------------\n",
        "for epoch in range(1, 6):  # 5 epochs\n",
        "    train(model, device, train_loader, optimizer, epoch)\n",
        "    test(model, device, test_loader)"
      ],
      "metadata": {
        "colab": {
          "base_uri": "https://localhost:8080/"
        },
        "id": "AuJYdmfLGkuQ",
        "outputId": "bfa8c9ae-a76e-4564-c11f-99c52792ec94"
      },
      "execution_count": 8,
      "outputs": [
        {
          "output_type": "stream",
          "name": "stdout",
          "text": [
            "Train Epoch: 1 [0/60000 (0%)]\tLoss: 2.294490\n",
            "Train Epoch: 1 [6400/60000 (11%)]\tLoss: 0.298726\n",
            "Train Epoch: 1 [12800/60000 (21%)]\tLoss: 0.072060\n",
            "Train Epoch: 1 [19200/60000 (32%)]\tLoss: 0.085314\n",
            "Train Epoch: 1 [25600/60000 (43%)]\tLoss: 0.111355\n",
            "Train Epoch: 1 [32000/60000 (53%)]\tLoss: 0.033061\n",
            "Train Epoch: 1 [38400/60000 (64%)]\tLoss: 0.061145\n",
            "Train Epoch: 1 [44800/60000 (75%)]\tLoss: 0.090535\n",
            "Train Epoch: 1 [51200/60000 (85%)]\tLoss: 0.072500\n",
            "Train Epoch: 1 [57600/60000 (96%)]\tLoss: 0.010585\n",
            "\n",
            "Test set: Average loss: 0.0441, Accuracy: 98.59%\n",
            "\n",
            "Train Epoch: 2 [0/60000 (0%)]\tLoss: 0.007890\n",
            "Train Epoch: 2 [6400/60000 (11%)]\tLoss: 0.051902\n",
            "Train Epoch: 2 [12800/60000 (21%)]\tLoss: 0.139384\n",
            "Train Epoch: 2 [19200/60000 (32%)]\tLoss: 0.014129\n",
            "Train Epoch: 2 [25600/60000 (43%)]\tLoss: 0.109972\n",
            "Train Epoch: 2 [32000/60000 (53%)]\tLoss: 0.071687\n",
            "Train Epoch: 2 [38400/60000 (64%)]\tLoss: 0.026159\n",
            "Train Epoch: 2 [44800/60000 (75%)]\tLoss: 0.016558\n",
            "Train Epoch: 2 [51200/60000 (85%)]\tLoss: 0.011496\n",
            "Train Epoch: 2 [57600/60000 (96%)]\tLoss: 0.009002\n",
            "\n",
            "Test set: Average loss: 0.0429, Accuracy: 98.59%\n",
            "\n",
            "Train Epoch: 3 [0/60000 (0%)]\tLoss: 0.039733\n",
            "Train Epoch: 3 [6400/60000 (11%)]\tLoss: 0.002544\n",
            "Train Epoch: 3 [12800/60000 (21%)]\tLoss: 0.056031\n",
            "Train Epoch: 3 [19200/60000 (32%)]\tLoss: 0.032047\n",
            "Train Epoch: 3 [25600/60000 (43%)]\tLoss: 0.029932\n",
            "Train Epoch: 3 [32000/60000 (53%)]\tLoss: 0.001565\n",
            "Train Epoch: 3 [38400/60000 (64%)]\tLoss: 0.009620\n",
            "Train Epoch: 3 [44800/60000 (75%)]\tLoss: 0.000294\n",
            "Train Epoch: 3 [51200/60000 (85%)]\tLoss: 0.003972\n",
            "Train Epoch: 3 [57600/60000 (96%)]\tLoss: 0.036654\n",
            "\n",
            "Test set: Average loss: 0.0334, Accuracy: 99.04%\n",
            "\n",
            "Train Epoch: 4 [0/60000 (0%)]\tLoss: 0.006183\n",
            "Train Epoch: 4 [6400/60000 (11%)]\tLoss: 0.000905\n",
            "Train Epoch: 4 [12800/60000 (21%)]\tLoss: 0.019189\n",
            "Train Epoch: 4 [19200/60000 (32%)]\tLoss: 0.004287\n",
            "Train Epoch: 4 [25600/60000 (43%)]\tLoss: 0.004241\n",
            "Train Epoch: 4 [32000/60000 (53%)]\tLoss: 0.008335\n",
            "Train Epoch: 4 [38400/60000 (64%)]\tLoss: 0.003059\n",
            "Train Epoch: 4 [44800/60000 (75%)]\tLoss: 0.002236\n",
            "Train Epoch: 4 [51200/60000 (85%)]\tLoss: 0.022205\n",
            "Train Epoch: 4 [57600/60000 (96%)]\tLoss: 0.040846\n",
            "\n",
            "Test set: Average loss: 0.0412, Accuracy: 98.80%\n",
            "\n",
            "Train Epoch: 5 [0/60000 (0%)]\tLoss: 0.001054\n",
            "Train Epoch: 5 [6400/60000 (11%)]\tLoss: 0.000050\n",
            "Train Epoch: 5 [12800/60000 (21%)]\tLoss: 0.030828\n",
            "Train Epoch: 5 [19200/60000 (32%)]\tLoss: 0.000237\n",
            "Train Epoch: 5 [25600/60000 (43%)]\tLoss: 0.007803\n",
            "Train Epoch: 5 [32000/60000 (53%)]\tLoss: 0.013209\n",
            "Train Epoch: 5 [38400/60000 (64%)]\tLoss: 0.018564\n",
            "Train Epoch: 5 [44800/60000 (75%)]\tLoss: 0.026953\n",
            "Train Epoch: 5 [51200/60000 (85%)]\tLoss: 0.006588\n",
            "Train Epoch: 5 [57600/60000 (96%)]\tLoss: 0.000043\n",
            "\n",
            "Test set: Average loss: 0.0610, Accuracy: 98.35%\n",
            "\n"
          ]
        }
      ]
    }
  ]
}